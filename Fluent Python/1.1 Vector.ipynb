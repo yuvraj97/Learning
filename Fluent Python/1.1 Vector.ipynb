{
 "cells": [
  {
   "cell_type": "code",
   "execution_count": 1,
   "id": "68d0942e",
   "metadata": {},
   "outputs": [],
   "source": [
    "class Vector:\n",
    "    def __init__(self, x=0, y=0):\n",
    "        self.x, self.y = x, y\n",
    "    def __repr__(self):\n",
    "        return f'Vector({self.x}, {self.y})'\n",
    "    def __abs__(self):\n",
    "        return self.x**2 + self.y**2\n",
    "    def __bool__(self):\n",
    "        return bool(abs(self))\n",
    "    def __mul__(self, scalar):\n",
    "        return Vector(self.x * scalar, self.y * scalar)\n",
    "    def __rmul__(self, scalar):\n",
    "        return self*scalar\n",
    "    def __neg__(self):\n",
    "        return -1*self\n",
    "    def __pos__(self):\n",
    "        return self\n",
    "    def __add__(self, vector):\n",
    "        x = self.x + vector.x\n",
    "        y = self.y + vector.y\n",
    "        return Vector(x, y)\n",
    "    def __sub__(self, vector):\n",
    "        return -vector + self"
   ]
  },
  {
   "cell_type": "code",
   "execution_count": 2,
   "id": "77ecc35b",
   "metadata": {},
   "outputs": [],
   "source": [
    "v1, v2 = Vector(1, 1), Vector(-2, -4)"
   ]
  },
  {
   "cell_type": "code",
   "execution_count": 3,
   "id": "fcceac65",
   "metadata": {},
   "outputs": [
    {
     "data": {
      "text/plain": [
       "Vector(-1, -1)"
      ]
     },
     "execution_count": 3,
     "metadata": {},
     "output_type": "execute_result"
    }
   ],
   "source": [
    "-v1"
   ]
  },
  {
   "cell_type": "code",
   "execution_count": 4,
   "id": "b641d884",
   "metadata": {},
   "outputs": [
    {
     "data": {
      "text/plain": [
       "Vector(-3, -5)"
      ]
     },
     "execution_count": 4,
     "metadata": {},
     "output_type": "execute_result"
    }
   ],
   "source": [
    "-v1+v2"
   ]
  },
  {
   "cell_type": "code",
   "execution_count": 5,
   "id": "fbc27f09",
   "metadata": {},
   "outputs": [
    {
     "data": {
      "text/plain": [
       "Vector(2, 2)"
      ]
     },
     "execution_count": 5,
     "metadata": {},
     "output_type": "execute_result"
    }
   ],
   "source": [
    "2*v1"
   ]
  },
  {
   "cell_type": "code",
   "execution_count": 6,
   "id": "a9e7a50e",
   "metadata": {},
   "outputs": [
    {
     "data": {
      "text/plain": [
       "Vector(-4, -10)"
      ]
     },
     "execution_count": 6,
     "metadata": {},
     "output_type": "execute_result"
    }
   ],
   "source": [
    "2*(v1+v2) + v2"
   ]
  },
  {
   "cell_type": "code",
   "execution_count": null,
   "id": "c9e2bd9f",
   "metadata": {},
   "outputs": [],
   "source": []
  }
 ],
 "metadata": {
  "kernelspec": {
   "display_name": "Python 3",
   "language": "python",
   "name": "python3"
  },
  "language_info": {
   "codemirror_mode": {
    "name": "ipython",
    "version": 3
   },
   "file_extension": ".py",
   "mimetype": "text/x-python",
   "name": "python",
   "nbconvert_exporter": "python",
   "pygments_lexer": "ipython3",
   "version": "3.8.8"
  }
 },
 "nbformat": 4,
 "nbformat_minor": 5
}
