{
 "cells": [
  {
   "cell_type": "code",
   "execution_count": null,
   "id": "e3fdf083",
   "metadata": {},
   "outputs": [],
   "source": [
    "a, b, *rest = list(range(5))\n",
    "a, b, rest"
   ]
  },
  {
   "cell_type": "code",
   "execution_count": 1,
   "id": "0789cfee",
   "metadata": {},
   "outputs": [
    {
     "name": "stdout",
     "output_type": "stream",
     "text": [
      "                |   lat.    |   long.  \n",
      "Mexico City     |   19.4333 |  -99.1333\n",
      "New York-Newark |   40.8086 |  -74.0204\n",
      "Sao Paulo       |  -23.5478 |  -46.6358\n"
     ]
    }
   ],
   "source": [
    "metro_areas = [\n",
    "    ('Tokyo', 'JP', 36.933, (35.689722, 139.691667)), #\n",
    "    ('Delhi NCR', 'IN', 21.935, (28.613889, 77.208889)),\n",
    "    ('Mexico City', 'MX', 20.142, (19.433333, -99.133333)),\n",
    "    ('New York-Newark', 'US', 20.104, (40.808611, -74.020386)),\n",
    "    ('Sao Paulo', 'BR', 19.649, (-23.547778, -46.635833)),\n",
    "]\n",
    "print('{:15} | {:^9} | {:^9}'.format('', 'lat.', 'long.'))\n",
    "fmt = '{:15} | {:9.4f} | {:9.4f}'\n",
    "for name, cc, pop, (latitude, longitude) in metro_areas: #\n",
    "    if longitude <= 0: #\n",
    "        print(fmt.format(name, latitude, longitude))"
   ]
  },
  {
   "cell_type": "markdown",
   "id": "5b94ab5d",
   "metadata": {},
   "source": [
    "## Named Tuples   \n",
    "The collections.namedtuple function is a factory that produces subclasses of tuple  \n",
    "enhanced with field names and a class name—which helps debugging.  \n",
    "```\n",
    "Instances of a class that you build with namedtuple take exactly the  \n",
    "same amount of memory as tuples because the field names are  \n",
    "stored in the class. They use less memory than a regular object  \n",
    "because they don’t store attributes in a per-instance __dict__.  \n",
    "```\n"
   ]
  },
  {
   "cell_type": "code",
   "execution_count": 2,
   "id": "77116efd",
   "metadata": {},
   "outputs": [
    {
     "data": {
      "text/plain": [
       "City(name='Tokyo', country='JP', population=36.933, coordinates=(35.689722, 139.691667))"
      ]
     },
     "execution_count": 2,
     "metadata": {},
     "output_type": "execute_result"
    }
   ],
   "source": [
    "from collections import namedtuple\n",
    "City = namedtuple('City', 'name country population coordinates'.split())\n",
    "tokyo = City('Tokyo', 'JP', 36.933, (35.689722, 139.691667))\n",
    "tokyo"
   ]
  },
  {
   "cell_type": "markdown",
   "id": "e4a25e72",
   "metadata": {},
   "source": [
    "A named tuple type has a few attributes in addition to those inherited from tuple.  \n",
    "Most useful: the `_fields` class attribute, the class method `_make(iterable)`, and the `_asdict()` instance method.  \n",
    "\n",
    "- `_fields` is a tuple with the field names of the class.\n",
    "- `_make()` allow you to instantiate a named tuple from an iterable; City(*del\n",
    "hi_data) would do the same.\n",
    "- `_asdict()` returns a collections.OrderedDict built from the named tuple\n",
    "instance. That can be used to produce a nice display of city data"
   ]
  },
  {
   "cell_type": "code",
   "execution_count": 3,
   "id": "ac5e1de8",
   "metadata": {},
   "outputs": [
    {
     "name": "stdout",
     "output_type": "stream",
     "text": [
      "('name', 'country', 'population', 'coordinates')\n",
      "name: Delhi NCR\n",
      "country: IN\n",
      "population: 21.935\n",
      "coordinates: LatLong(lat=28.613889, long=77.208889)\n"
     ]
    }
   ],
   "source": [
    "print(City._fields)\n",
    "LatLong = namedtuple('LatLong', 'lat long')\n",
    "delhi_data = ('Delhi NCR', 'IN', 21.935, LatLong(28.613889, 77.208889))\n",
    "delhi = City._make(delhi_data)\n",
    "delhi._asdict()\n",
    "for key, value in delhi._asdict().items():\n",
    "    print(key + ':', value)"
   ]
  },
  {
   "cell_type": "markdown",
   "id": "d5eb2f50",
   "metadata": {},
   "source": [
    "`t: some tuple`\n",
    "- t.__getnewargs__(): Support for optimized serialization with pickle (doesn't support for list)"
   ]
  },
  {
   "cell_type": "code",
   "execution_count": 4,
   "id": "ab3ee47b",
   "metadata": {},
   "outputs": [
    {
     "data": {
      "text/plain": [
       "(1, 2, 1, 2)"
      ]
     },
     "execution_count": 4,
     "metadata": {},
     "output_type": "execute_result"
    }
   ],
   "source": [
    "t = (1,2)\n",
    "t *= 2\n",
    "t"
   ]
  },
  {
   "cell_type": "markdown",
   "id": "f089db02",
   "metadata": {},
   "source": [
    "## Slice Objects\n",
    "```\n",
    "s = 'bicycle'\n",
    "s[::-1]\n",
    "'elcycib'\n",
    "```\n",
    "\n",
    "```\n",
    "invoice = \"\"\"\n",
    "1909 Pimoroni PiBrella $17.50 3 $52.50\n",
    "1489 6mm Tactile Switch x20 $4.95 2 $9.90\n",
    "1510 Panavise Jr. - PV-201 $28.00 1 $28.00\n",
    "1601 PiTFT Mini Kit 320x240 $34.95 1 $34.95\n",
    "\"\"\"\n",
    "\n",
    "SKU = slice(0, 6)\n",
    "DESCRIPTION = slice(6, 40)\n",
    "UNIT_PRICE = slice(40, 52)\n",
    "QUANTITY = slice(52, 55)\n",
    "ITEM_TOTAL = slice(55, None)\n",
    "line_items = invoice.split('\\n')[2:]\n",
    "for item in line_items:\n",
    "    print(item[UNIT_PRICE], item[DESCRIPTION])\n",
    "```"
   ]
  },
  {
   "cell_type": "markdown",
   "id": "f08694d8",
   "metadata": {},
   "source": [
    "## Assigning to Slices\n",
    "Mutable sequences can be grafted, excised, and otherwise modified in place using slice  \n",
    "notation on the left side of an assignment statement or as the target of a del statement."
   ]
  },
  {
   "cell_type": "code",
   "execution_count": 5,
   "id": "28959fb4",
   "metadata": {},
   "outputs": [
    {
     "data": {
      "text/plain": [
       "[0, 1, 100, 22, 9]"
      ]
     },
     "execution_count": 5,
     "metadata": {},
     "output_type": "execute_result"
    }
   ],
   "source": [
    "l = list(range(10))\n",
    "l\n",
    "[0, 1, 2, 3, 4, 5, 6, 7, 8, 9]\n",
    "l[2:5] = [20, 30]  # [0, 1, 20, 30, 5, 6, 7, 8, 9]\n",
    "del l[5:7]  # [0, 1, 20, 30, 5, 8, 9]\n",
    "l[3::2] = [11, 22]  # [0, 1, 20, 11, 5, 22, 9]\n",
    "# l[2:5] = 100  # # TypeError: can only assign an iterable\n",
    "l[2:5] = [100]  # [0, 1, 100, 22, 9]\n",
    "l"
   ]
  },
  {
   "cell_type": "markdown",
   "id": "7259f53e",
   "metadata": {},
   "source": [
    "The `ellipsis` written with three full stops `...` is recognized as a token by the Python parser.   \n",
    "It is an alias to the `Ellipsis` object, the single instance of the ellipsis class.2   \n",
    "As such, it can be passed as an argument to functions and as part of a slice specification,   \n",
    "as in `f(a, ..., z)` or `a[i:...]`. NumPy uses `...`\n",
    "as a shortcut when slicing arrays of many dimensions; for example, if x is a `4` dimensional\n",
    "array, `x[i, ...]` is a shortcut for `x[i, :, :, :,]`"
   ]
  },
  {
   "cell_type": "code",
   "execution_count": 6,
   "id": "89506039",
   "metadata": {},
   "outputs": [
    {
     "data": {
      "text/plain": [
       "[[3], [3], [3]]"
      ]
     },
     "execution_count": 6,
     "metadata": {},
     "output_type": "execute_result"
    }
   ],
   "source": [
    "# pitfalls of trying to use * to initialize a list of lists.\n",
    "l = [[0]] * 3\n",
    "# l[0][0] = 0\n",
    "l[0][0] = 3\n",
    "l"
   ]
  },
  {
   "cell_type": "markdown",
   "id": "fdb7852c",
   "metadata": {},
   "source": [
    "## Augmented Assignment with Sequences\n",
    "Augmented assignment operators `+=` and `*=`   \n",
    "For `list` `a += b` will work as `a.extend(b)`  \n",
    "For `list` (mostly multable objects) `+=` and `*=` doesn't create new object.  \n",
    "Like `a = a + b` will create a new object then assign it ti `a`"
   ]
  },
  {
   "cell_type": "code",
   "execution_count": 7,
   "id": "9798fb30",
   "metadata": {},
   "outputs": [
    {
     "name": "stdout",
     "output_type": "stream",
     "text": [
      "1683944416128\n",
      "1683944416128\n",
      "1683944789568\n"
     ]
    }
   ],
   "source": [
    "# Mutable List\n",
    "l = [1,2,3]\n",
    "print(id(l))\n",
    "l+=[1,2]\n",
    "print(id(l))\n",
    "l = l + [1,2]\n",
    "print(id(l))"
   ]
  },
  {
   "cell_type": "code",
   "execution_count": 8,
   "id": "145429c0",
   "metadata": {},
   "outputs": [
    {
     "name": "stdout",
     "output_type": "stream",
     "text": [
      "1683944399360\n",
      "1683944459936\n"
     ]
    }
   ],
   "source": [
    "# Mutable Tuple\n",
    "l = (1,2,3)\n",
    "print(id(l))\n",
    "l+=(1,2)\n",
    "print(id(l))"
   ]
  },
  {
   "cell_type": "code",
   "execution_count": 9,
   "id": "c6c5a559",
   "metadata": {},
   "outputs": [
    {
     "ename": "TypeError",
     "evalue": "'tuple' object does not support item assignment",
     "output_type": "error",
     "traceback": [
      "\u001b[1;31m---------------------------------------------------------------------------\u001b[0m",
      "\u001b[1;31mTypeError\u001b[0m                                 Traceback (most recent call last)",
      "\u001b[1;32m<ipython-input-9-493ed2ae07b6>\u001b[0m in \u001b[0;36m<module>\u001b[1;34m\u001b[0m\n\u001b[0;32m      5\u001b[0m \u001b[1;31m#   exception after doing its job.\u001b[0m\u001b[1;33m\u001b[0m\u001b[1;33m\u001b[0m\u001b[1;33m\u001b[0m\u001b[0m\n\u001b[0;32m      6\u001b[0m \u001b[0mt\u001b[0m \u001b[1;33m=\u001b[0m \u001b[1;33m(\u001b[0m\u001b[1;36m1\u001b[0m\u001b[1;33m,\u001b[0m \u001b[1;36m2\u001b[0m\u001b[1;33m,\u001b[0m \u001b[1;33m[\u001b[0m\u001b[1;36m30\u001b[0m\u001b[1;33m,\u001b[0m \u001b[1;36m40\u001b[0m\u001b[1;33m]\u001b[0m\u001b[1;33m)\u001b[0m\u001b[1;33m\u001b[0m\u001b[1;33m\u001b[0m\u001b[0m\n\u001b[1;32m----> 7\u001b[1;33m \u001b[0mt\u001b[0m\u001b[1;33m[\u001b[0m\u001b[1;36m2\u001b[0m\u001b[1;33m]\u001b[0m \u001b[1;33m+=\u001b[0m \u001b[1;33m[\u001b[0m\u001b[1;36m50\u001b[0m\u001b[1;33m,\u001b[0m \u001b[1;36m60\u001b[0m\u001b[1;33m]\u001b[0m\u001b[1;33m\u001b[0m\u001b[1;33m\u001b[0m\u001b[0m\n\u001b[0m",
      "\u001b[1;31mTypeError\u001b[0m: 'tuple' object does not support item assignment"
     ]
    }
   ],
   "source": [
    "# Here we see an error cause tuples are immutable but still it's value is changed\n",
    "# Lessons learned:\n",
    "# - Putting mutable items in tuples is not a good idea.\n",
    "# - Augmented assignment is not an atomic(independent) operation, we just saw it throwing an\n",
    "#   exception after doing its job.\n",
    "t = (1, 2, [30, 40])\n",
    "t[2] += [50, 60]"
   ]
  },
  {
   "cell_type": "code",
   "execution_count": 10,
   "id": "d5927413",
   "metadata": {},
   "outputs": [
    {
     "name": "stdout",
     "output_type": "stream",
     "text": [
      "(1, 2, [30, 40, 50, 60])\n"
     ]
    }
   ],
   "source": [
    "print(t)"
   ]
  },
  {
   "cell_type": "code",
   "execution_count": 11,
   "id": "6cb3d8f8",
   "metadata": {},
   "outputs": [
    {
     "name": "stdout",
     "output_type": "stream",
     "text": [
      "  1           0 LOAD_NAME                0 (b)\n",
      "              2 STORE_NAME               1 (a)\n",
      "              4 LOAD_CONST               0 (None)\n",
      "              6 RETURN_VALUE\n",
      "None\n",
      "-----\n",
      "  1           0 LOAD_NAME                0 (s)\n",
      "              2 LOAD_NAME                1 (a)\n",
      "              4 DUP_TOP_TWO\n",
      "              6 BINARY_SUBSCR\n",
      "              8 LOAD_NAME                2 (b)\n",
      "             10 INPLACE_ADD\n",
      "             12 ROT_THREE\n",
      "             14 STORE_SUBSCR\n",
      "             16 LOAD_CONST               0 (None)\n",
      "             18 RETURN_VALUE\n",
      "None\n"
     ]
    }
   ],
   "source": [
    "# Bytecode for some expression\n",
    "import dis\n",
    "print(dis.dis('a=b'))\n",
    "print(\"-----\")\n",
    "print(dis.dis('s[a] += b'))"
   ]
  },
  {
   "cell_type": "code",
   "execution_count": null,
   "id": "3f11d4b6",
   "metadata": {},
   "outputs": [],
   "source": [
    "     "
   ]
  },
  {
   "cell_type": "markdown",
   "id": "11d253f4",
   "metadata": {},
   "source": [
    "- Important Python API convention: functions or methods that change an object in\n",
    "place should return None to make it clear to the caller that the object itself was changed,\n",
    "and no new object was created"
   ]
  },
  {
   "cell_type": "code",
   "execution_count": 12,
   "id": "aec6822d",
   "metadata": {},
   "outputs": [
    {
     "name": "stdout",
     "output_type": "stream",
     "text": [
      "5\n",
      "5\n"
     ]
    },
    {
     "data": {
      "text/plain": [
       "[0, 1, 2, 3, 5, 6, 33, 45, 56]"
      ]
     },
     "execution_count": 12,
     "metadata": {},
     "output_type": "execute_result"
    }
   ],
   "source": [
    "import bisect\n",
    "l = [0, 1, 2, 5, 6, 33, 45, 56]\n",
    "print(bisect.bisect(l, 7))\n",
    "print(bisect.bisect_left(l, 7))\n",
    "bisect.insort(l, 3)\n",
    "l"
   ]
  },
  {
   "cell_type": "markdown",
   "id": "43ade6fd",
   "metadata": {},
   "source": [
    "## Array\n",
    "\n",
    "As of Python 3.4, the array type does not have an in-place sort method like list.sort().  \n",
    "We can use the sorted function to rebuild it:  \n",
    "`a = array.array(a.typecode, sorted(a))`   \n",
    "To keep a sorted array sorted while adding items to it, use the `bisect.insort` function"
   ]
  },
  {
   "cell_type": "code",
   "execution_count": 13,
   "id": "fe63c543",
   "metadata": {},
   "outputs": [],
   "source": [
    "from array import array\n",
    "floats = array('d', [1, 2, 3, 4])  # array('d', [1.0, 2.0, 3.0, 4.0])\n",
    "fp = open('floats.bin', 'wb')\n",
    "floats.tofile(fp)\n",
    "fp.close()\n",
    "floats2 = array('d')\n",
    "fp = open('floats.bin', 'rb')\n",
    "floats2.fromfile(fp, 4)\n",
    "fp.close()"
   ]
  },
  {
   "cell_type": "code",
   "execution_count": null,
   "id": "b9a2c9fc",
   "metadata": {},
   "outputs": [],
   "source": []
  },
  {
   "cell_type": "code",
   "execution_count": 14,
   "id": "24924842",
   "metadata": {},
   "outputs": [
    {
     "name": "stdout",
     "output_type": "stream",
     "text": [
      "[254, 255, 255, 255, 0, 0, 1, 0, 2, 0]\n",
      "\n",
      "numbers: array('h', [-2, -1, 1024, 1, 2])\n",
      "memv: [-2, -1, 1024, 1, 2]\n",
      "memv_oct: [254, 255, 255, 255, 0, 4, 1, 0, 2, 0]\n"
     ]
    }
   ],
   "source": [
    "numbers = array('h', [-2, -1, 0, 1, 2])  # 'h': signed short (2 bytes)\n",
    "memv = memoryview(numbers)\n",
    "memv_oct = memv.cast('B')  # 'B': unsigned char (1 byte)\n",
    "print(memv_oct.tolist())  # Resultent is 2*sizeof(numbers) cause of (signed short (2 bytes) -> unsigned char (1 byte))\n",
    "memv_oct[5] = 4\n",
    "print()\n",
    "print(f\"numbers: {numbers}\")\n",
    "print(f\"memv: {memv.tolist()}\")\n",
    "print(f\"memv_oct: {memv_oct.tolist()}\")"
   ]
  },
  {
   "cell_type": "code",
   "execution_count": null,
   "id": "fa369274",
   "metadata": {},
   "outputs": [],
   "source": []
  },
  {
   "cell_type": "markdown",
   "id": "ec1408c3",
   "metadata": {},
   "source": [
    "## Deques and Other Queues\n",
    "\n",
    "The `append` and `popleft` operations are atomic(independent), so `deque` is safe to use as a LIFO queue in `multithreaded` applications without the need for using locks."
   ]
  },
  {
   "cell_type": "code",
   "execution_count": 15,
   "id": "1eeb86df",
   "metadata": {},
   "outputs": [
    {
     "name": "stdout",
     "output_type": "stream",
     "text": [
      "deque([0, 1, 2, 3, 4, 5, 6, 7, 8, 9], maxlen=10)\n",
      "Rotate 3: deque([7, 8, 9, 0, 1, 2, 3, 4, 5, 6], maxlen=10)\n",
      "Rotate -4: deque([1, 2, 3, 4, 5, 6, 7, 8, 9, 0], maxlen=10)\n",
      "Append Left -1: deque([-1, 1, 2, 3, 4, 5, 6, 7, 8, 9], maxlen=10)\n",
      "Extend: deque([3, 4, 5, 6, 7, 8, 9, 11, 22, 33], maxlen=10)\n",
      "Extend Left: deque([40, 30, 20, 10, 3, 4, 5, 6, 7, 8], maxlen=10)\n"
     ]
    }
   ],
   "source": [
    "from collections import deque\n",
    "dq = deque(range(10), maxlen=10)\n",
    "print(dq)\n",
    "dq.rotate(3)  # pick form last and add to first\n",
    "print(f\"Rotate 3: {dq}\")\n",
    "dq.rotate(-4)  # pick form first and add to last\n",
    "print(f\"Rotate -4: {dq}\")\n",
    "dq.appendleft(-1)\n",
    "print(f\"Append Left -1: {dq}\")\n",
    "dq.extend([11, 22, 33])  # Add to right\n",
    "print(f\"Extend: {dq}\")\n",
    "dq.extendleft([10, 20, 30, 40])\n",
    "print(f\"Extend Left: {dq}\")"
   ]
  },
  {
   "cell_type": "markdown",
   "id": "c0d9245b",
   "metadata": {},
   "source": [
    "## queue\n",
    "This provides the synchronized (i.e., `thread-safe`) classes `Queue`, `LifoQueue`, and\n",
    "`PriorityQueue`.   \n",
    "These are used for safe communication between threads.  \n",
    "They don’t discard items to make room as deque does.   \n",
    "Instead, when the queue is full the insertion of a new item, it waits until\n",
    "some other thread makes room by taking an item from the queue (which is useful\n",
    "to throttle the number of live threads).\n",
    "## multiprocessing\n",
    "Implements its own bounded `Queue`, very similar to queue.Queue but designed for\n",
    "interprocess communication.   \n",
    "A specialized `multiprocessing.JoinableQueue` is also available for easier task management.\n",
    "## asyncio\n",
    "Newly added to Python 3.4, asyncio provides `Queue`, `LifoQueue`, `PriorityQueue`, and `JoinableQueue` with APIs inspired by the classes contained in the queue and multiprocessing modules, but adapted for managing tasks in asynchronous programming.\n",
    "## heapq\n",
    "In contrast to the previous three modules, `heapq` does not implement a `queue` class,\n",
    "but provides functions like `heappush` and `heappop` that let us use a mutable sequence\n",
    "as a heap queue or priority queue."
   ]
  },
  {
   "cell_type": "code",
   "execution_count": null,
   "id": "2e16de61",
   "metadata": {},
   "outputs": [],
   "source": []
  }
 ],
 "metadata": {
  "kernelspec": {
   "display_name": "Python 3",
   "language": "python",
   "name": "python3"
  },
  "language_info": {
   "codemirror_mode": {
    "name": "ipython",
    "version": 3
   },
   "file_extension": ".py",
   "mimetype": "text/x-python",
   "name": "python",
   "nbconvert_exporter": "python",
   "pygments_lexer": "ipython3",
   "version": "3.8.8"
  }
 },
 "nbformat": 4,
 "nbformat_minor": 5
}
